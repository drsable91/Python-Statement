{
 "cells": [
  {
   "cell_type": "markdown",
   "id": "0a8d29f3",
   "metadata": {},
   "source": [
    "# Statement "
   ]
  },
  {
   "cell_type": "code",
   "execution_count": 13,
   "id": "189a0777",
   "metadata": {},
   "outputs": [
    {
     "name": "stdout",
     "output_type": "stream",
     "text": [
      "Invalid\n"
     ]
    }
   ],
   "source": [
    "a = 30\n",
    "b = 20\n",
    "if b>a:\n",
    "    print(\"Valid\")\n",
    "else:\n",
    "    print(\"Invalid\")"
   ]
  },
  {
   "cell_type": "markdown",
   "id": "205a8c3f",
   "metadata": {},
   "source": [
    "# Indentation\n",
    "\n",
    "Python relies on indation"
   ]
  },
  {
   "cell_type": "code",
   "execution_count": 4,
   "id": "03a82f28",
   "metadata": {},
   "outputs": [
    {
     "name": "stdout",
     "output_type": "stream",
     "text": [
      "b is greter than a\n"
     ]
    }
   ],
   "source": [
    "a=33\n",
    "b=200\n",
    "if b>a:\n",
    "    print(\"b is greter than a\")  # 1 tab is equal to 4 line space"
   ]
  },
  {
   "cell_type": "code",
   "execution_count": 5,
   "id": "79ca17c4",
   "metadata": {},
   "outputs": [],
   "source": [
    "a=45\n",
    "b=300\n",
    "if b<a:\n",
    "    print(\"abc\")\n",
    "# you will get an error"
   ]
  },
  {
   "cell_type": "markdown",
   "id": "f4bd1d62",
   "metadata": {},
   "source": [
    "# Elif\n",
    " The elif keyword is python way of saying \" If the previous conditions were not true, then by this condition"
   ]
  },
  {
   "cell_type": "code",
   "execution_count": 6,
   "id": "14217702",
   "metadata": {},
   "outputs": [
    {
     "name": "stdout",
     "output_type": "stream",
     "text": [
      "Equal\n"
     ]
    }
   ],
   "source": [
    "a=44\n",
    "b=44\n",
    "if b > a:\n",
    "    print(\"Greater\")\n",
    "elif a==b:\n",
    "    print(\"Equal\")"
   ]
  },
  {
   "cell_type": "markdown",
   "id": "a15414c4",
   "metadata": {},
   "source": [
    "#### If the condition is failthen we go to second condition"
   ]
  },
  {
   "cell_type": "code",
   "execution_count": 7,
   "id": "bdc00ad7",
   "metadata": {},
   "outputs": [
    {
     "name": "stdout",
     "output_type": "stream",
     "text": [
      "Invalid\n"
     ]
    }
   ],
   "source": [
    "a=555\n",
    "b=55\n",
    "if b>a:\n",
    "    print(\"Valid\")\n",
    "elif a>b:\n",
    "    print(\"Invalid\")"
   ]
  },
  {
   "cell_type": "markdown",
   "id": "b868c8ff",
   "metadata": {},
   "source": [
    "# Else\n",
    "\n",
    "The else keyword catches anything which isn't caught by the precending conditions."
   ]
  },
  {
   "cell_type": "code",
   "execution_count": 8,
   "id": "06154f20",
   "metadata": {},
   "outputs": [
    {
     "name": "stdout",
     "output_type": "stream",
     "text": [
      "None\n"
     ]
    }
   ],
   "source": [
    "a=200\n",
    "b=20\n",
    "if b>a:\n",
    "    print(\"Greter\")\n",
    "elif a==b:\n",
    "    print(\"Equal\")\n",
    "else:\n",
    "    print(\"None\")"
   ]
  },
  {
   "cell_type": "code",
   "execution_count": 12,
   "id": "513ec29a",
   "metadata": {
    "collapsed": true
   },
   "outputs": [
    {
     "name": "stdout",
     "output_type": "stream",
     "text": [
      "A+ Grade\n"
     ]
    }
   ],
   "source": [
    "grade = 99\n",
    "if grade>=95:\n",
    "    print(\"O Grade\")\n",
    "elif grade>=90:\n",
    "    print(\"A Grade\")\n",
    "elif grade >= 80:\n",
    "    print(\"B Grade\")\n",
    "elif grade >= 70:\n",
    "    print(\"C Grade\")\n",
    "elif grade >= 65:\n",
    "    print(\"D Grade\")\n",
    "else: print(\"Failing Grade\")\n"
   ]
  },
  {
   "cell_type": "code",
   "execution_count": null,
   "id": "8f0fe669",
   "metadata": {},
   "outputs": [],
   "source": []
  },
  {
   "cell_type": "code",
   "execution_count": 14,
   "id": "f029a459",
   "metadata": {},
   "outputs": [],
   "source": [
    "#### You can also have an else without the elif: "
   ]
  },
  {
   "cell_type": "code",
   "execution_count": 15,
   "id": "ab8a2894",
   "metadata": {},
   "outputs": [
    {
     "name": "stdout",
     "output_type": "stream",
     "text": [
      "b is not greter than a\n"
     ]
    }
   ],
   "source": [
    "a=2000\n",
    "b=333\n",
    "if b>a:\n",
    "    print(\"b is greter than a\")\n",
    "else:\n",
    "    print(\"b is not greter than a\")"
   ]
  },
  {
   "cell_type": "markdown",
   "id": "b9268d99",
   "metadata": {},
   "source": [
    "# And\n",
    "\n",
    "The and keyword is a logical operator and is use to combine conditional saatement"
   ]
  },
  {
   "cell_type": "code",
   "execution_count": 16,
   "id": "0e3ff60c",
   "metadata": {},
   "outputs": [
    {
     "name": "stdout",
     "output_type": "stream",
     "text": [
      "Invalid\n"
     ]
    }
   ],
   "source": [
    "a=200\n",
    "b=300\n",
    "c=500\n",
    "if a>b and c>a:\n",
    "    print(\"Both conditions are true\")\n",
    "else:\n",
    "    print(\"Invalid\")"
   ]
  },
  {
   "cell_type": "markdown",
   "id": "24d9bfe5",
   "metadata": {},
   "source": [
    "# Or\n",
    "\n",
    "The or keyword is a logical operator and is used to combine conditional statements"
   ]
  },
  {
   "cell_type": "code",
   "execution_count": 17,
   "id": "4352be89",
   "metadata": {},
   "outputs": [
    {
     "name": "stdout",
     "output_type": "stream",
     "text": [
      "Invalid\n"
     ]
    }
   ],
   "source": [
    "a=200\n",
    "b=330\n",
    "c=500\n",
    "if a>b or a>c:\n",
    "    print(\"At list one of the condition is trur\")\n",
    "else:\n",
    "    print(\"Invalid\")"
   ]
  },
  {
   "cell_type": "markdown",
   "id": "b61408e2",
   "metadata": {},
   "source": [
    "# Nested If\n",
    "\n",
    "You can have if statement inside if statement,this is called nested if statement"
   ]
  },
  {
   "cell_type": "code",
   "execution_count": 19,
   "id": "8308fcce",
   "metadata": {},
   "outputs": [
    {
     "name": "stdout",
     "output_type": "stream",
     "text": [
      "Zero\n"
     ]
    }
   ],
   "source": [
    "num = 6\n",
    "if num >=5:\n",
    "    if num<9:\n",
    "        print(\"Zero\")\n",
    "    else:\n",
    "        print(\"Positive number\")\n",
    "else:\n",
    "    print(\"Negative Number\")"
   ]
  },
  {
   "cell_type": "code",
   "execution_count": 20,
   "id": "bbdd3ae6",
   "metadata": {},
   "outputs": [
    {
     "name": "stdout",
     "output_type": "stream",
     "text": [
      "Passing grade of:\n",
      "B\n"
     ]
    }
   ],
   "source": [
    "grade = 80\n",
    "if grade >=65:\n",
    "    print(\"Passing grade of:\")\n",
    "    if grade >= 90:\n",
    "        print(\"A\")\n",
    "        \n",
    "    elif grade >=80:\n",
    "        print(\"B\")\n",
    "        \n",
    "    elif grade >=70:\n",
    "        print(\"C\")\n",
    "        \n",
    "    elif grade >=65:\n",
    "        print(\"D\")\n",
    "        \n",
    "    else:\n",
    "        print(\"Failing grade\")"
   ]
  },
  {
   "cell_type": "code",
   "execution_count": 23,
   "id": "9059ad34",
   "metadata": {},
   "outputs": [
    {
     "name": "stdout",
     "output_type": "stream",
     "text": [
      "Expression value is less than 200\n",
      "Which is 150\n"
     ]
    }
   ],
   "source": [
    "var=150\n",
    "if var < 200:\n",
    "    print(\"Expression value is less than 200\")\n",
    "    \n",
    "    if var == 150:\n",
    "        print(\"Which is 150\")\n",
    "        \n",
    "    elif var == 100:\n",
    "        print(\"Ehich is 100\")\n",
    "        \n",
    "    elif var == 50:\n",
    "        print(\"Ehich is 50\")\n",
    "        \n",
    "    elif var < 50:\n",
    "        print(\"Expression value is less than 50\")\n",
    "        \n",
    "else:\n",
    "        print(\"Invalid\")"
   ]
  }
 ],
 "metadata": {
  "kernelspec": {
   "display_name": "Python 3 (ipykernel)",
   "language": "python",
   "name": "python3"
  },
  "language_info": {
   "codemirror_mode": {
    "name": "ipython",
    "version": 3
   },
   "file_extension": ".py",
   "mimetype": "text/x-python",
   "name": "python",
   "nbconvert_exporter": "python",
   "pygments_lexer": "ipython3",
   "version": "3.9.7"
  }
 },
 "nbformat": 4,
 "nbformat_minor": 5
}
